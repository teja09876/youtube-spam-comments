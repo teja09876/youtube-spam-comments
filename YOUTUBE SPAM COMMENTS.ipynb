{
 "cells": [
  {
   "cell_type": "markdown",
   "id": "f2382fc8",
   "metadata": {},
   "source": [
    "# IMPLEMENTATION OF A PROTOYPE TO DETECT SPAM IN YOUTUBE COMMENTS USING SUPPORT VECTOR MACHINE"
   ]
  },
  {
   "cell_type": "markdown",
   "id": "53f68172",
   "metadata": {},
   "source": [
    "# Introduction\n",
    "\n",
    "Social networking media such as Facebook, twitter, and YouTube have gained huge following among internet users in the most recent decade. YouTube is one of the most popular and widely used video sharing websites on the Internet. Video especially is turning into the most important aspect of web user's daily routine.\n",
    "\n",
    "YouTube has a feature that allows its users to post comments in response to a particular video.The enormous popularity of YouTube and the less publication cost has led to misuse of the YouTube video feature since the spammers upload videos which have violated the copyrights, upload malicious and spam videos\n",
    "\n",
    "To maximize the popularity of a video, spammers post comments and video links, where the comment has irrelevant content of the subject being discussed. If spams are left unchecked, it attenuates resources sharing, inter communication and openness. Hence there is a crucial need for security solution and a technique to combat video spamming in YouTube."
   ]
  },
  {
   "cell_type": "markdown",
   "id": "a682fd81",
   "metadata": {},
   "source": [
    "# Impact of video spam on Youtube:\n",
    "    \n",
    "Since large volume of data flows on YouTube every second, existence of spam leads to bandwidth wastage (on user side).\n",
    "\n",
    "Phishing: Malicious users creates phishing site misleading as a trusted site and share it among the users on internet. Upon clicking the link, sensitive data is asked to share and once the user inputs the data, the malicious users uses the shared data to access account and personal data.\n",
    "\n",
    "Pornographic videos are posted as video responses to some of the videos which are meant for children. Such types of video responses are considered as spam and its presence has a negative effect on children.\n",
    "\n",
    "Some of the data extracted is perhaps disturbing or posted to benefit from the user. Such type of data forces the system to comprise its main purpose of improving social interaction, as the user losses trust and value of the legitimate application.\n",
    "\n",
    "Malware: The malicious user creates malware and share among internet users.This link to the website will download malware without user’s interest. Once the user click the link, malware gets downloaded and malign user have the control of the device of the user."
   ]
  },
  {
   "cell_type": "code",
   "execution_count": 1,
   "id": "c5109ae4",
   "metadata": {},
   "outputs": [],
   "source": [
    "%matplotlib inline\n",
    "\n",
    "import os\n",
    "import numpy as np\n",
    "import pandas as pd\n",
    "import seaborn as sns  # For visualization\n",
    "import matplotlib.pyplot as plt   # For visualization\n",
    "\n",
    "sns.set(style='ticks', context='talk')\n",
    "na_values = ['NO CLUE', 'N/A', '0']"
   ]
  },
  {
   "cell_type": "code",
   "execution_count": 2,
   "id": "b6a78d37",
   "metadata": {},
   "outputs": [],
   "source": [
    "import os\n",
    "os.chdir(\"E:\\\\PROJECTS 2022\\\\CMR\\MINI\\\\2. Youtube\")"
   ]
  },
  {
   "cell_type": "code",
   "execution_count": 3,
   "id": "63948d11",
   "metadata": {},
   "outputs": [],
   "source": [
    "Psy = pd.read_csv(\"Youtube01-Psy.csv\")\n",
    "Katy = pd.read_csv(\"Youtube02-KatyPerry.csv\")\n",
    "LMFAO = pd.read_csv(\"Youtube03-LMFAO.csv\")\n",
    "Eminem = pd.read_csv(\"Youtube04-Eminem.csv\")\n",
    "Shakira = pd.read_csv(\"Youtube05-Shakira.csv\")"
   ]
  },
  {
   "cell_type": "code",
   "execution_count": 4,
   "id": "daa87e6c",
   "metadata": {},
   "outputs": [],
   "source": [
    "youtube_comments_data = pd.concat([Psy,Katy,LMFAO,Eminem,Shakira])"
   ]
  },
  {
   "cell_type": "code",
   "execution_count": 5,
   "id": "0b34e332",
   "metadata": {},
   "outputs": [
    {
     "data": {
      "text/html": [
       "<div>\n",
       "<style scoped>\n",
       "    .dataframe tbody tr th:only-of-type {\n",
       "        vertical-align: middle;\n",
       "    }\n",
       "\n",
       "    .dataframe tbody tr th {\n",
       "        vertical-align: top;\n",
       "    }\n",
       "\n",
       "    .dataframe thead th {\n",
       "        text-align: right;\n",
       "    }\n",
       "</style>\n",
       "<table border=\"1\" class=\"dataframe\">\n",
       "  <thead>\n",
       "    <tr style=\"text-align: right;\">\n",
       "      <th></th>\n",
       "      <th>COMMENT_ID</th>\n",
       "      <th>AUTHOR</th>\n",
       "      <th>DATE</th>\n",
       "      <th>CONTENT</th>\n",
       "      <th>CLASS</th>\n",
       "    </tr>\n",
       "  </thead>\n",
       "  <tbody>\n",
       "    <tr>\n",
       "      <th>0</th>\n",
       "      <td>LZQPQhLyRh80UYxNuaDWhIGQYNQ96IuCg-AYWqNPjpU</td>\n",
       "      <td>Julius NM</td>\n",
       "      <td>2013-11-07T06:20:48</td>\n",
       "      <td>Huh, anyway check out this you[tube] channel: ...</td>\n",
       "      <td>1</td>\n",
       "    </tr>\n",
       "    <tr>\n",
       "      <th>1</th>\n",
       "      <td>LZQPQhLyRh_C2cTtd9MvFRJedxydaVW-2sNg5Diuo4A</td>\n",
       "      <td>adam riyati</td>\n",
       "      <td>2013-11-07T12:37:15</td>\n",
       "      <td>Hey guys check out my new channel and our firs...</td>\n",
       "      <td>1</td>\n",
       "    </tr>\n",
       "    <tr>\n",
       "      <th>2</th>\n",
       "      <td>LZQPQhLyRh9MSZYnf8djyk0gEF9BHDPYrrK-qCczIY8</td>\n",
       "      <td>Evgeny Murashkin</td>\n",
       "      <td>2013-11-08T17:34:21</td>\n",
       "      <td>just for test I have to say murdev.com</td>\n",
       "      <td>1</td>\n",
       "    </tr>\n",
       "    <tr>\n",
       "      <th>3</th>\n",
       "      <td>z13jhp0bxqncu512g22wvzkasxmvvzjaz04</td>\n",
       "      <td>ElNino Melendez</td>\n",
       "      <td>2013-11-09T08:28:43</td>\n",
       "      <td>me shaking my sexy ass on my channel enjoy ^_^ ﻿</td>\n",
       "      <td>1</td>\n",
       "    </tr>\n",
       "    <tr>\n",
       "      <th>4</th>\n",
       "      <td>z13fwbwp1oujthgqj04chlngpvzmtt3r3dw</td>\n",
       "      <td>GsMega</td>\n",
       "      <td>2013-11-10T16:05:38</td>\n",
       "      <td>watch?v=vtaRGgvGtWQ   Check this out .﻿</td>\n",
       "      <td>1</td>\n",
       "    </tr>\n",
       "  </tbody>\n",
       "</table>\n",
       "</div>"
      ],
      "text/plain": [
       "                                    COMMENT_ID            AUTHOR  \\\n",
       "0  LZQPQhLyRh80UYxNuaDWhIGQYNQ96IuCg-AYWqNPjpU         Julius NM   \n",
       "1  LZQPQhLyRh_C2cTtd9MvFRJedxydaVW-2sNg5Diuo4A       adam riyati   \n",
       "2  LZQPQhLyRh9MSZYnf8djyk0gEF9BHDPYrrK-qCczIY8  Evgeny Murashkin   \n",
       "3          z13jhp0bxqncu512g22wvzkasxmvvzjaz04   ElNino Melendez   \n",
       "4          z13fwbwp1oujthgqj04chlngpvzmtt3r3dw            GsMega   \n",
       "\n",
       "                  DATE                                            CONTENT  \\\n",
       "0  2013-11-07T06:20:48  Huh, anyway check out this you[tube] channel: ...   \n",
       "1  2013-11-07T12:37:15  Hey guys check out my new channel and our firs...   \n",
       "2  2013-11-08T17:34:21             just for test I have to say murdev.com   \n",
       "3  2013-11-09T08:28:43   me shaking my sexy ass on my channel enjoy ^_^ ﻿   \n",
       "4  2013-11-10T16:05:38            watch?v=vtaRGgvGtWQ   Check this out .﻿   \n",
       "\n",
       "   CLASS  \n",
       "0      1  \n",
       "1      1  \n",
       "2      1  \n",
       "3      1  \n",
       "4      1  "
      ]
     },
     "execution_count": 5,
     "metadata": {},
     "output_type": "execute_result"
    }
   ],
   "source": [
    "youtube_comments_data.head()"
   ]
  },
  {
   "cell_type": "code",
   "execution_count": 6,
   "id": "0a8c0aa0",
   "metadata": {},
   "outputs": [
    {
     "data": {
      "text/plain": [
       "(1956, 5)"
      ]
     },
     "execution_count": 6,
     "metadata": {},
     "output_type": "execute_result"
    }
   ],
   "source": [
    "youtube_comments_data.shape"
   ]
  },
  {
   "cell_type": "code",
   "execution_count": 64,
   "id": "f3e3f9ce",
   "metadata": {},
   "outputs": [
    {
     "data": {
      "text/plain": [
       "1    1005\n",
       "0     951\n",
       "Name: CLASS, dtype: int64"
      ]
     },
     "execution_count": 64,
     "metadata": {},
     "output_type": "execute_result"
    }
   ],
   "source": [
    "youtube_comments_data.CLASS.value_counts()"
   ]
  },
  {
   "cell_type": "markdown",
   "id": "57fd2c48",
   "metadata": {},
   "source": [
    "## Create a SPAM dictionary with SPMA words by observing the SPAM comments in the data"
   ]
  },
  {
   "cell_type": "code",
   "execution_count": 7,
   "id": "c47e656b",
   "metadata": {},
   "outputs": [],
   "source": [
    "\n",
    "SpamMatch = [\"check my video\", \"Follow me\", \"watch my videos\",\"subscribe\",\"Please share\",\"Check out\",\"my channel\",\"my page\",\n",
    "            \"giftcard\",\"promos\",\"sex\",\"channel\",\"new track\",\"ATTENTION\",\"HTTP\",\"subs\",\"check\",\"like them\",\"new album\",\"Hack\",\n",
    "            \"VOTE\",\"please listen\",\"join me\",\"help me\",\"help\",\"youtube\",\"gay\",\"share\",\"fuck\",\"make money\",\"visit\",\"Donate\",\n",
    "            \"trailer\",\"free\",\"channel\",\"instagram\",\"facebook\",\"soundcloud\",\"support\",\"website\"]"
   ]
  },
  {
   "cell_type": "markdown",
   "id": "320bc7c8",
   "metadata": {},
   "source": [
    "## Count the number of spam words in the comment using the spam dictionary\n",
    "\n",
    "To count the SPAM words in the comment, we will match each word in the comment with the words in the dictionary."
   ]
  },
  {
   "cell_type": "code",
   "execution_count": 8,
   "id": "6cc0f13e",
   "metadata": {},
   "outputs": [],
   "source": [
    "# Count the number of spam words in the comment using the spam dictionary\n",
    "youtube_comments_data['SPM_CNT'] = youtube_comments_data['CONTENT'].str.upper().str.count(str.upper(\"|\".join(SpamMatch)))"
   ]
  },
  {
   "cell_type": "markdown",
   "id": "4766cb40",
   "metadata": {},
   "source": [
    "### To check if the comment contains strings \"http\",\"www\" or \".com\" string which represent promotions and could be SPAM and set IS_HTTP=1 else 0"
   ]
  },
  {
   "cell_type": "code",
   "execution_count": 9,
   "id": "afe7b081",
   "metadata": {},
   "outputs": [],
   "source": [
    "youtube_comments_data['IS_URL'] = youtube_comments_data['CONTENT'].str.upper().str.contains(str.upper('http|https|www|.com'))"
   ]
  },
  {
   "cell_type": "code",
   "execution_count": 10,
   "id": "9f3d5022",
   "metadata": {},
   "outputs": [
    {
     "data": {
      "text/plain": [
       "<AxesSubplot:xlabel='CLASS', ylabel='IS_URL'>"
      ]
     },
     "execution_count": 10,
     "metadata": {},
     "output_type": "execute_result"
    },
    {
     "data": {
      "image/png": "[encoded data removed]",
      "text/plain": [
       "<Figure size 432x288 with 1 Axes>"
      ]
     },
     "metadata": {},
     "output_type": "display_data"
    }
   ],
   "source": [
    "#checking the spam length against the feature is_url to find the spam words probability.\n",
    "sns.barplot(x='CLASS', y='IS_URL', data=youtube_comments_data)"
   ]
  },
  {
   "cell_type": "markdown",
   "id": "850c3232",
   "metadata": {},
   "source": [
    "### Remove the 'stop words' from the comment that have little discriminative power (e.g. the, a, in).\n",
    "Get the length of the comment for further SPAM indication"
   ]
  },
  {
   "cell_type": "code",
   "execution_count": 11,
   "id": "dde0dee0",
   "metadata": {},
   "outputs": [],
   "source": [
    "stop_words = [ \"a\",\"i\",\"me\",\"my\",\"we\",\"our\",\"for\", \"ours\",\"ourselves\", \"you\", \"your\",\"yourself\",\"yourselves\", \"he\",\"him\", \"his\", \"himself\",\"her\",\"hers\", \"herself\",\"it\", \"its\", \"itself\",\"them\",\"their\", \"theirs\",\"themselves\", \"what\", \"which\",\"whom\",\"this\", \"that\",\"these\", \"those\", \"am\",\"are\",\"was\", \"were\",\"be\", \"been\", \"being\",\"has\",\"had\", \"having\",\"do\", \"does\", \"did\",\"would\",\"should\", \"could\",\"ought\", \"i'm\", \"you're\",\"she's\",\"it's\", \"we're\",\"they're\", \"i've\", \"you've\",\"they've\",\"i'd\", \"you'd\",\"he'd\", \"she'd\", \"we'd\",\"i'll\",\"you'll\", \"he'll\",\"she'll\", \"we'll\", \"they'll\",\"aren't\",\"wasn't\", \"weren't\",\"hasn't\", \"haven't\", \"hadn't\",\"don't\",\"didn't\", \"won't\",\"wouldn't\", \"shan't\", \"shouldn't\",\"cannot\",\"couldn't\", \"mustn't\",\"let's\", \"that's\", \"who's\",\"here's\",\"there's\", \"when's\",\"where's\", \"why's\", \"how's\",\"an\",\"the\", \"and\",\"but\", \"if\", \"or\",\"as\",\"until\", \"while\",\"of\", \"at\", \"by\",\"with\",\"about\", \"against\",\"between\", \"into\", \"through\",\"before\",\"after\", \"above\",\"below\", \"to\", \"from\",\"down\",\"in\", \"out\",\"on\", \"off\", \"over\",\"again\",\"further\", \"then\",\"once\", \"here\", \"there\",\"where\",\"why\", \"how\",\"all\", \"any\", \"both\",\"few\",\"more\", \"most\",\"other\", \"some\", \"such\",\"nor\",\"not\", \"only\",\"own\", \"same\", \"so\",\"too\",\"very\"]"
   ]
  },
  {
   "cell_type": "markdown",
   "id": "20e2def5",
   "metadata": {},
   "source": [
    "### After removing the stopwords, add the comment words to the \"CONTENT_FLTR\" column"
   ]
  },
  {
   "cell_type": "code",
   "execution_count": 12,
   "id": "7e9452f7",
   "metadata": {},
   "outputs": [],
   "source": [
    "youtube_comments_data['CONTENT_FLTR'] = youtube_comments_data['CONTENT'].str.lower().apply(lambda x: [item for item in str.split(x) if item not in stop_words])"
   ]
  },
  {
   "cell_type": "code",
   "execution_count": 13,
   "id": "5e95c514",
   "metadata": {},
   "outputs": [],
   "source": [
    "youtube_comments_data['COMMENT_LEN'] =  youtube_comments_data['CONTENT_FLTR'].str.len()"
   ]
  },
  {
   "cell_type": "code",
   "execution_count": 14,
   "id": "4d5244db",
   "metadata": {},
   "outputs": [
    {
     "data": {
      "text/html": [
       "<div>\n",
       "<style scoped>\n",
       "    .dataframe tbody tr th:only-of-type {\n",
       "        vertical-align: middle;\n",
       "    }\n",
       "\n",
       "    .dataframe tbody tr th {\n",
       "        vertical-align: top;\n",
       "    }\n",
       "\n",
       "    .dataframe thead th {\n",
       "        text-align: right;\n",
       "    }\n",
       "</style>\n",
       "<table border=\"1\" class=\"dataframe\">\n",
       "  <thead>\n",
       "    <tr style=\"text-align: right;\">\n",
       "      <th></th>\n",
       "      <th>CONTENT</th>\n",
       "      <th>CONTENT_FLTR</th>\n",
       "    </tr>\n",
       "  </thead>\n",
       "  <tbody>\n",
       "    <tr>\n",
       "      <th>0</th>\n",
       "      <td>Huh, anyway check out this you[tube] channel: ...</td>\n",
       "      <td>[huh,, anyway, check, you[tube], channel:, kob...</td>\n",
       "    </tr>\n",
       "    <tr>\n",
       "      <th>1</th>\n",
       "      <td>Hey guys check out my new channel and our firs...</td>\n",
       "      <td>[hey, guys, check, new, channel, first, vid, i...</td>\n",
       "    </tr>\n",
       "    <tr>\n",
       "      <th>2</th>\n",
       "      <td>just for test I have to say murdev.com</td>\n",
       "      <td>[just, test, have, say, murdev.com]</td>\n",
       "    </tr>\n",
       "    <tr>\n",
       "      <th>3</th>\n",
       "      <td>me shaking my sexy ass on my channel enjoy ^_^ ﻿</td>\n",
       "      <td>[shaking, sexy, ass, channel, enjoy, ^_^, ﻿]</td>\n",
       "    </tr>\n",
       "    <tr>\n",
       "      <th>4</th>\n",
       "      <td>watch?v=vtaRGgvGtWQ   Check this out .﻿</td>\n",
       "      <td>[watch?v=vtarggvgtwq, check, .﻿]</td>\n",
       "    </tr>\n",
       "  </tbody>\n",
       "</table>\n",
       "</div>"
      ],
      "text/plain": [
       "                                             CONTENT  \\\n",
       "0  Huh, anyway check out this you[tube] channel: ...   \n",
       "1  Hey guys check out my new channel and our firs...   \n",
       "2             just for test I have to say murdev.com   \n",
       "3   me shaking my sexy ass on my channel enjoy ^_^ ﻿   \n",
       "4            watch?v=vtaRGgvGtWQ   Check this out .﻿   \n",
       "\n",
       "                                        CONTENT_FLTR  \n",
       "0  [huh,, anyway, check, you[tube], channel:, kob...  \n",
       "1  [hey, guys, check, new, channel, first, vid, i...  \n",
       "2                [just, test, have, say, murdev.com]  \n",
       "3       [shaking, sexy, ass, channel, enjoy, ^_^, ﻿]  \n",
       "4                   [watch?v=vtarggvgtwq, check, .﻿]  "
      ]
     },
     "execution_count": 14,
     "metadata": {},
     "output_type": "execute_result"
    }
   ],
   "source": [
    "youtube_comments_data.loc[:,['CONTENT','CONTENT_FLTR']].head()"
   ]
  },
  {
   "cell_type": "markdown",
   "id": "9f190dc2",
   "metadata": {},
   "source": [
    "### Get the ratio of SPAM words to the number of words in the Comment¶"
   ]
  },
  {
   "cell_type": "code",
   "execution_count": 15,
   "id": "af7ef057",
   "metadata": {},
   "outputs": [],
   "source": [
    "youtube_comments_data['SPM_to_COMNT'] = (youtube_comments_data['SPM_CNT']/youtube_comments_data['COMMENT_LEN'])"
   ]
  },
  {
   "cell_type": "code",
   "execution_count": 17,
   "id": "2865deef",
   "metadata": {},
   "outputs": [
    {
     "data": {
      "text/plain": [
       "<AxesSubplot:xlabel='CLASS', ylabel='SPM_to_COMNT'>"
      ]
     },
     "execution_count": 17,
     "metadata": {},
     "output_type": "execute_result"
    },
    {
     "data": {
      "image/png": "[encoded data removed]",
      "text/plain": [
       "<Figure size 432x288 with 1 Axes>"
      ]
     },
     "metadata": {},
     "output_type": "display_data"
    }
   ],
   "source": [
    "sns.barplot(orient='v',data=youtube_comments_data,y='SPM_to_COMNT', x='CLASS')"
   ]
  },
  {
   "cell_type": "markdown",
   "id": "b8d969fc",
   "metadata": {},
   "source": [
    "### Get the comments having long text.\n",
    "\n",
    "Such comments are often SPAM as long comments are used for Marketing,etc"
   ]
  },
  {
   "cell_type": "code",
   "execution_count": 18,
   "id": "89ba273a",
   "metadata": {},
   "outputs": [],
   "source": [
    "youtube_comments_data['spm_len'] = np.where(youtube_comments_data['COMMENT_LEN'] > 50, 1, 0)"
   ]
  },
  {
   "cell_type": "code",
   "execution_count": 20,
   "id": "d467fb2b",
   "metadata": {},
   "outputs": [
    {
     "data": {
      "text/plain": [
       "<seaborn.axisgrid.FacetGrid at 0x211001bd550>"
      ]
     },
     "execution_count": 20,
     "metadata": {},
     "output_type": "execute_result"
    },
    {
     "data": {
      "image/png": "[encoded data removed]",
      "text/plain": [
       "<Figure size 441.325x360 with 1 Axes>"
      ]
     },
     "metadata": {},
     "output_type": "display_data"
    }
   ],
   "source": [
    "import warnings\n",
    "warnings.filterwarnings(\"ignore\")\n",
    "\n",
    "#plotting spam length against predicted spam class using is _url\n",
    "sns.factorplot(y=\"COMMENT_LEN\",x=\"CLASS\",hue=\"spm_len\",data=youtube_comments_data,kind=\"bar\")"
   ]
  },
  {
   "cell_type": "code",
   "execution_count": 21,
   "id": "6a201835",
   "metadata": {},
   "outputs": [
    {
     "data": {
      "text/html": [
       "<div>\n",
       "<style scoped>\n",
       "    .dataframe tbody tr th:only-of-type {\n",
       "        vertical-align: middle;\n",
       "    }\n",
       "\n",
       "    .dataframe tbody tr th {\n",
       "        vertical-align: top;\n",
       "    }\n",
       "\n",
       "    .dataframe thead th {\n",
       "        text-align: right;\n",
       "    }\n",
       "</style>\n",
       "<table border=\"1\" class=\"dataframe\">\n",
       "  <thead>\n",
       "    <tr style=\"text-align: right;\">\n",
       "      <th></th>\n",
       "      <th>COMMENT_ID</th>\n",
       "      <th>AUTHOR</th>\n",
       "      <th>DATE</th>\n",
       "      <th>CONTENT</th>\n",
       "      <th>CLASS</th>\n",
       "      <th>SPM_CNT</th>\n",
       "      <th>IS_URL</th>\n",
       "      <th>CONTENT_FLTR</th>\n",
       "      <th>COMMENT_LEN</th>\n",
       "      <th>SPM_to_COMNT</th>\n",
       "      <th>spm_len</th>\n",
       "    </tr>\n",
       "  </thead>\n",
       "  <tbody>\n",
       "    <tr>\n",
       "      <th>0</th>\n",
       "      <td>LZQPQhLyRh80UYxNuaDWhIGQYNQ96IuCg-AYWqNPjpU</td>\n",
       "      <td>Julius NM</td>\n",
       "      <td>2013-11-07T06:20:48</td>\n",
       "      <td>Huh, anyway check out this you[tube] channel: ...</td>\n",
       "      <td>1</td>\n",
       "      <td>2</td>\n",
       "      <td>False</td>\n",
       "      <td>[huh,, anyway, check, you[tube], channel:, kob...</td>\n",
       "      <td>6</td>\n",
       "      <td>0.333333</td>\n",
       "      <td>0</td>\n",
       "    </tr>\n",
       "    <tr>\n",
       "      <th>1</th>\n",
       "      <td>LZQPQhLyRh_C2cTtd9MvFRJedxydaVW-2sNg5Diuo4A</td>\n",
       "      <td>adam riyati</td>\n",
       "      <td>2013-11-07T12:37:15</td>\n",
       "      <td>Hey guys check out my new channel and our firs...</td>\n",
       "      <td>1</td>\n",
       "      <td>3</td>\n",
       "      <td>True</td>\n",
       "      <td>[hey, guys, check, new, channel, first, vid, i...</td>\n",
       "      <td>18</td>\n",
       "      <td>0.166667</td>\n",
       "      <td>0</td>\n",
       "    </tr>\n",
       "    <tr>\n",
       "      <th>2</th>\n",
       "      <td>LZQPQhLyRh9MSZYnf8djyk0gEF9BHDPYrrK-qCczIY8</td>\n",
       "      <td>Evgeny Murashkin</td>\n",
       "      <td>2013-11-08T17:34:21</td>\n",
       "      <td>just for test I have to say murdev.com</td>\n",
       "      <td>1</td>\n",
       "      <td>0</td>\n",
       "      <td>True</td>\n",
       "      <td>[just, test, have, say, murdev.com]</td>\n",
       "      <td>5</td>\n",
       "      <td>0.000000</td>\n",
       "      <td>0</td>\n",
       "    </tr>\n",
       "    <tr>\n",
       "      <th>3</th>\n",
       "      <td>z13jhp0bxqncu512g22wvzkasxmvvzjaz04</td>\n",
       "      <td>ElNino Melendez</td>\n",
       "      <td>2013-11-09T08:28:43</td>\n",
       "      <td>me shaking my sexy ass on my channel enjoy ^_^ ﻿</td>\n",
       "      <td>1</td>\n",
       "      <td>2</td>\n",
       "      <td>False</td>\n",
       "      <td>[shaking, sexy, ass, channel, enjoy, ^_^, ﻿]</td>\n",
       "      <td>7</td>\n",
       "      <td>0.285714</td>\n",
       "      <td>0</td>\n",
       "    </tr>\n",
       "    <tr>\n",
       "      <th>4</th>\n",
       "      <td>z13fwbwp1oujthgqj04chlngpvzmtt3r3dw</td>\n",
       "      <td>GsMega</td>\n",
       "      <td>2013-11-10T16:05:38</td>\n",
       "      <td>watch?v=vtaRGgvGtWQ   Check this out .﻿</td>\n",
       "      <td>1</td>\n",
       "      <td>1</td>\n",
       "      <td>False</td>\n",
       "      <td>[watch?v=vtarggvgtwq, check, .﻿]</td>\n",
       "      <td>3</td>\n",
       "      <td>0.333333</td>\n",
       "      <td>0</td>\n",
       "    </tr>\n",
       "  </tbody>\n",
       "</table>\n",
       "</div>"
      ],
      "text/plain": [
       "                                    COMMENT_ID            AUTHOR  \\\n",
       "0  LZQPQhLyRh80UYxNuaDWhIGQYNQ96IuCg-AYWqNPjpU         Julius NM   \n",
       "1  LZQPQhLyRh_C2cTtd9MvFRJedxydaVW-2sNg5Diuo4A       adam riyati   \n",
       "2  LZQPQhLyRh9MSZYnf8djyk0gEF9BHDPYrrK-qCczIY8  Evgeny Murashkin   \n",
       "3          z13jhp0bxqncu512g22wvzkasxmvvzjaz04   ElNino Melendez   \n",
       "4          z13fwbwp1oujthgqj04chlngpvzmtt3r3dw            GsMega   \n",
       "\n",
       "                  DATE                                            CONTENT  \\\n",
       "0  2013-11-07T06:20:48  Huh, anyway check out this you[tube] channel: ...   \n",
       "1  2013-11-07T12:37:15  Hey guys check out my new channel and our firs...   \n",
       "2  2013-11-08T17:34:21             just for test I have to say murdev.com   \n",
       "3  2013-11-09T08:28:43   me shaking my sexy ass on my channel enjoy ^_^ ﻿   \n",
       "4  2013-11-10T16:05:38            watch?v=vtaRGgvGtWQ   Check this out .﻿   \n",
       "\n",
       "   CLASS  SPM_CNT  IS_URL                                       CONTENT_FLTR  \\\n",
       "0      1        2   False  [huh,, anyway, check, you[tube], channel:, kob...   \n",
       "1      1        3    True  [hey, guys, check, new, channel, first, vid, i...   \n",
       "2      1        0    True                [just, test, have, say, murdev.com]   \n",
       "3      1        2   False       [shaking, sexy, ass, channel, enjoy, ^_^, ﻿]   \n",
       "4      1        1   False                   [watch?v=vtarggvgtwq, check, .﻿]   \n",
       "\n",
       "   COMMENT_LEN  SPM_to_COMNT  spm_len  \n",
       "0            6      0.333333        0  \n",
       "1           18      0.166667        0  \n",
       "2            5      0.000000        0  \n",
       "3            7      0.285714        0  \n",
       "4            3      0.333333        0  "
      ]
     },
     "execution_count": 21,
     "metadata": {},
     "output_type": "execute_result"
    }
   ],
   "source": [
    "youtube_comments_data.head()"
   ]
  },
  {
   "cell_type": "code",
   "execution_count": 22,
   "id": "41b416be",
   "metadata": {},
   "outputs": [
    {
     "data": {
      "text/plain": [
       "['COMMENT_ID',\n",
       " 'AUTHOR',\n",
       " 'DATE',\n",
       " 'CONTENT',\n",
       " 'CLASS',\n",
       " 'SPM_CNT',\n",
       " 'IS_URL',\n",
       " 'CONTENT_FLTR',\n",
       " 'COMMENT_LEN',\n",
       " 'SPM_to_COMNT',\n",
       " 'spm_len']"
      ]
     },
     "execution_count": 22,
     "metadata": {},
     "output_type": "execute_result"
    }
   ],
   "source": [
    "list(youtube_comments_data.columns.values)"
   ]
  },
  {
   "cell_type": "markdown",
   "id": "57ae8f45",
   "metadata": {},
   "source": [
    "### Make all extracted features as catogorical"
   ]
  },
  {
   "cell_type": "code",
   "execution_count": 23,
   "id": "b1389357",
   "metadata": {},
   "outputs": [],
   "source": [
    "# Make the variables categorical\n",
    "youtube_comments_data[\"CLASS\"] = youtube_comments_data[\"CLASS\"].astype('category')\n",
    "youtube_comments_data[\"SPM_CNT\"] = youtube_comments_data[\"SPM_CNT\"].astype('category')\n",
    "youtube_comments_data[\"IS_URL\"] = youtube_comments_data[\"IS_URL\"].astype('category')\n",
    "youtube_comments_data[\"COMMENT_LEN\"] = youtube_comments_data[\"COMMENT_LEN\"].astype('category')\n",
    "youtube_comments_data[\"SPM_to_COMNT\"] = youtube_comments_data[\"SPM_to_COMNT\"].astype('category')\n",
    "youtube_comments_data[\"spm_len\"] = youtube_comments_data[\"spm_len\"].astype('category')"
   ]
  },
  {
   "cell_type": "markdown",
   "id": "df41cd40",
   "metadata": {},
   "source": [
    "### Using Naive Bayes to train our model to predict whether comment is SPAM or not"
   ]
  },
  {
   "cell_type": "code",
   "execution_count": 24,
   "id": "182cdf38",
   "metadata": {},
   "outputs": [],
   "source": [
    "#Import Library of Gaussian Naive Bayes model\n",
    "from sklearn.naive_bayes import GaussianNB\n",
    "import numpy as np"
   ]
  },
  {
   "cell_type": "code",
   "execution_count": 25,
   "id": "ede8ebd6",
   "metadata": {},
   "outputs": [],
   "source": [
    "model = GaussianNB()"
   ]
  },
  {
   "cell_type": "code",
   "execution_count": 27,
   "id": "8a9c86ac",
   "metadata": {},
   "outputs": [
    {
     "data": {
      "image/png": "[encoded data removed]",
      "text/plain": [
       "<IPython.core.display.Image object>"
      ]
     },
     "execution_count": 27,
     "metadata": {},
     "output_type": "execute_result"
    }
   ],
   "source": [
    "from IPython.display import Image\n",
    "Image(\"E:\\\\PROJECTS 2022\\\\CMR\\MINI\\\\2. Youtube\\\\naive.png\")"
   ]
  },
  {
   "cell_type": "markdown",
   "id": "fccd2dd6",
   "metadata": {},
   "source": [
    "### Naive Bayes\n",
    "\n",
    "The Naive Bayes algorithm is depended on Bayes’theorems is a classification algorithm. \n",
    "This algorithm is less intense in terms of calculating, and hence is favorable for quickly developing mining \n",
    "designs to find out the association between input and predictable columns. Data can be initially analyzed using \n",
    "the algorithm and the results that are obtained can be used to build additional models using various algorithms \n",
    "that provides more precise and more powerful in terms of calculation."
   ]
  },
  {
   "cell_type": "code",
   "execution_count": 28,
   "id": "a7eb5092",
   "metadata": {},
   "outputs": [
    {
     "data": {
      "text/plain": [
       "GaussianNB()"
      ]
     },
     "execution_count": 28,
     "metadata": {},
     "output_type": "execute_result"
    }
   ],
   "source": [
    "# Train the model using the training sets \n",
    "model.fit(youtube_comments_data.values[:,(5,6,8,9,10)],youtube_comments_data.CLASS)"
   ]
  },
  {
   "cell_type": "markdown",
   "id": "1a6b7a35",
   "metadata": {},
   "source": [
    "### Create the testing data set\n",
    "\n",
    "We will use one artist comments to data test our model to check its prediction accuracy"
   ]
  },
  {
   "cell_type": "code",
   "execution_count": 29,
   "id": "602a4393",
   "metadata": {},
   "outputs": [
    {
     "data": {
      "text/html": [
       "<div>\n",
       "<style scoped>\n",
       "    .dataframe tbody tr th:only-of-type {\n",
       "        vertical-align: middle;\n",
       "    }\n",
       "\n",
       "    .dataframe tbody tr th {\n",
       "        vertical-align: top;\n",
       "    }\n",
       "\n",
       "    .dataframe thead th {\n",
       "        text-align: right;\n",
       "    }\n",
       "</style>\n",
       "<table border=\"1\" class=\"dataframe\">\n",
       "  <thead>\n",
       "    <tr style=\"text-align: right;\">\n",
       "      <th></th>\n",
       "      <th>COMMENT_ID</th>\n",
       "      <th>AUTHOR</th>\n",
       "      <th>DATE</th>\n",
       "      <th>CONTENT</th>\n",
       "      <th>CLASS</th>\n",
       "    </tr>\n",
       "  </thead>\n",
       "  <tbody>\n",
       "    <tr>\n",
       "      <th>0</th>\n",
       "      <td>z13lgffb5w3ddx1ul22qy1wxspy5cpkz504</td>\n",
       "      <td>dharma pal</td>\n",
       "      <td>2015-05-29T02:30:18.971000</td>\n",
       "      <td>Nice song﻿</td>\n",
       "      <td>0</td>\n",
       "    </tr>\n",
       "    <tr>\n",
       "      <th>1</th>\n",
       "      <td>z123dbgb0mqjfxbtz22ucjc5jvzcv3ykj</td>\n",
       "      <td>Tiza Arellano</td>\n",
       "      <td>2015-05-29T00:14:48.748000</td>\n",
       "      <td>I love song ﻿</td>\n",
       "      <td>0</td>\n",
       "    </tr>\n",
       "    <tr>\n",
       "      <th>2</th>\n",
       "      <td>z12quxxp2vutflkxv04cihggzt2azl34pms0k</td>\n",
       "      <td>Prìñçeśś Âliś Łøvê Dømíñø Mâđiś™ ﻿</td>\n",
       "      <td>2015-05-28T21:00:08.607000</td>\n",
       "      <td>I love song ﻿</td>\n",
       "      <td>0</td>\n",
       "    </tr>\n",
       "    <tr>\n",
       "      <th>3</th>\n",
       "      <td>z12icv3ysqvlwth2c23eddlykyqut5z1h</td>\n",
       "      <td>Eric Gonzalez</td>\n",
       "      <td>2015-05-28T20:47:12.193000</td>\n",
       "      <td>860,000,000 lets make it first female to reach...</td>\n",
       "      <td>0</td>\n",
       "    </tr>\n",
       "    <tr>\n",
       "      <th>4</th>\n",
       "      <td>z133stly3kete3tly22petvwdpmghrlli</td>\n",
       "      <td>Analena López</td>\n",
       "      <td>2015-05-28T17:08:29.827000</td>\n",
       "      <td>shakira is best for worldcup﻿</td>\n",
       "      <td>0</td>\n",
       "    </tr>\n",
       "  </tbody>\n",
       "</table>\n",
       "</div>"
      ],
      "text/plain": [
       "                              COMMENT_ID                              AUTHOR  \\\n",
       "0    z13lgffb5w3ddx1ul22qy1wxspy5cpkz504                          dharma pal   \n",
       "1      z123dbgb0mqjfxbtz22ucjc5jvzcv3ykj                       Tiza Arellano   \n",
       "2  z12quxxp2vutflkxv04cihggzt2azl34pms0k  Prìñçeśś Âliś Łøvê Dømíñø Mâđiś™ ﻿   \n",
       "3      z12icv3ysqvlwth2c23eddlykyqut5z1h                       Eric Gonzalez   \n",
       "4      z133stly3kete3tly22petvwdpmghrlli                       Analena López   \n",
       "\n",
       "                         DATE  \\\n",
       "0  2015-05-29T02:30:18.971000   \n",
       "1  2015-05-29T00:14:48.748000   \n",
       "2  2015-05-28T21:00:08.607000   \n",
       "3  2015-05-28T20:47:12.193000   \n",
       "4  2015-05-28T17:08:29.827000   \n",
       "\n",
       "                                             CONTENT  CLASS  \n",
       "0                                         Nice song﻿      0  \n",
       "1                                      I love song ﻿      0  \n",
       "2                                      I love song ﻿      0  \n",
       "3  860,000,000 lets make it first female to reach...      0  \n",
       "4                      shakira is best for worldcup﻿      0  "
      ]
     },
     "execution_count": 29,
     "metadata": {},
     "output_type": "execute_result"
    }
   ],
   "source": [
    "youtube_comments_data_shakira = pd.read_csv('Youtube05-Shakira.csv')\n",
    "youtube_comments_data_shakira.head()"
   ]
  },
  {
   "cell_type": "code",
   "execution_count": 30,
   "id": "02b19374",
   "metadata": {},
   "outputs": [
    {
     "data": {
      "text/plain": [
       "(370, 5)"
      ]
     },
     "execution_count": 30,
     "metadata": {},
     "output_type": "execute_result"
    }
   ],
   "source": [
    "youtube_comments_data_shakira.shape"
   ]
  },
  {
   "cell_type": "code",
   "execution_count": 31,
   "id": "8de2287b",
   "metadata": {},
   "outputs": [],
   "source": [
    "# Make the CLASS variable categorical\n",
    "youtube_comments_data_shakira[\"CLASS\"] = youtube_comments_data_shakira[\"CLASS\"].astype('category')"
   ]
  },
  {
   "cell_type": "code",
   "execution_count": 32,
   "id": "69e96d80",
   "metadata": {},
   "outputs": [],
   "source": [
    "# Count the number of spam words in the comment using the spam dictionary\n",
    "youtube_comments_data_shakira['SPM_CNT'] = youtube_comments_data_shakira['CONTENT'].str.upper().str.count(str.upper(\"|\".join(SpamMatch)))"
   ]
  },
  {
   "cell_type": "code",
   "execution_count": 33,
   "id": "7cb7f021",
   "metadata": {},
   "outputs": [],
   "source": [
    "youtube_comments_data_shakira['IS_URL'] =youtube_comments_data_shakira['CONTENT'].str.upper().str.contains(str.upper('http|https|www|.com'))"
   ]
  },
  {
   "cell_type": "code",
   "execution_count": 34,
   "id": "5d8c9fc6",
   "metadata": {},
   "outputs": [],
   "source": [
    "youtube_comments_data_shakira['CONTENT_FLTR'] = youtube_comments_data_shakira['CONTENT'].str.lower().apply(lambda x: [item for item in str.split(x) if item not in stop_words])"
   ]
  },
  {
   "cell_type": "code",
   "execution_count": 35,
   "id": "1ca222d6",
   "metadata": {},
   "outputs": [],
   "source": [
    "youtube_comments_data_shakira['COMMENT_LEN'] =  youtube_comments_data_shakira['CONTENT_FLTR'].str.len()"
   ]
  },
  {
   "cell_type": "code",
   "execution_count": 36,
   "id": "a41db051",
   "metadata": {},
   "outputs": [],
   "source": [
    "youtube_comments_data_shakira['SPM_to_COMNT'] = (youtube_comments_data_shakira['SPM_CNT']/youtube_comments_data_shakira['COMMENT_LEN'])"
   ]
  },
  {
   "cell_type": "code",
   "execution_count": 37,
   "id": "b5c78437",
   "metadata": {},
   "outputs": [],
   "source": [
    "youtube_comments_data_shakira['spm_len'] = np.where(youtube_comments_data_shakira['COMMENT_LEN'] > 50, 1, 0)"
   ]
  },
  {
   "cell_type": "code",
   "execution_count": 38,
   "id": "af56136d",
   "metadata": {},
   "outputs": [
    {
     "data": {
      "text/html": [
       "<div>\n",
       "<style scoped>\n",
       "    .dataframe tbody tr th:only-of-type {\n",
       "        vertical-align: middle;\n",
       "    }\n",
       "\n",
       "    .dataframe tbody tr th {\n",
       "        vertical-align: top;\n",
       "    }\n",
       "\n",
       "    .dataframe thead th {\n",
       "        text-align: right;\n",
       "    }\n",
       "</style>\n",
       "<table border=\"1\" class=\"dataframe\">\n",
       "  <thead>\n",
       "    <tr style=\"text-align: right;\">\n",
       "      <th></th>\n",
       "      <th>COMMENT_ID</th>\n",
       "      <th>AUTHOR</th>\n",
       "      <th>DATE</th>\n",
       "      <th>CONTENT</th>\n",
       "      <th>CLASS</th>\n",
       "      <th>SPM_CNT</th>\n",
       "      <th>IS_URL</th>\n",
       "      <th>CONTENT_FLTR</th>\n",
       "      <th>COMMENT_LEN</th>\n",
       "      <th>SPM_to_COMNT</th>\n",
       "      <th>spm_len</th>\n",
       "    </tr>\n",
       "  </thead>\n",
       "  <tbody>\n",
       "    <tr>\n",
       "      <th>0</th>\n",
       "      <td>z13lgffb5w3ddx1ul22qy1wxspy5cpkz504</td>\n",
       "      <td>dharma pal</td>\n",
       "      <td>2015-05-29T02:30:18.971000</td>\n",
       "      <td>Nice song﻿</td>\n",
       "      <td>0</td>\n",
       "      <td>0</td>\n",
       "      <td>False</td>\n",
       "      <td>[nice, song﻿]</td>\n",
       "      <td>2</td>\n",
       "      <td>0.000000</td>\n",
       "      <td>0</td>\n",
       "    </tr>\n",
       "    <tr>\n",
       "      <th>1</th>\n",
       "      <td>z123dbgb0mqjfxbtz22ucjc5jvzcv3ykj</td>\n",
       "      <td>Tiza Arellano</td>\n",
       "      <td>2015-05-29T00:14:48.748000</td>\n",
       "      <td>I love song ﻿</td>\n",
       "      <td>0</td>\n",
       "      <td>0</td>\n",
       "      <td>False</td>\n",
       "      <td>[love, song, ﻿]</td>\n",
       "      <td>3</td>\n",
       "      <td>0.000000</td>\n",
       "      <td>0</td>\n",
       "    </tr>\n",
       "    <tr>\n",
       "      <th>2</th>\n",
       "      <td>z12quxxp2vutflkxv04cihggzt2azl34pms0k</td>\n",
       "      <td>Prìñçeśś Âliś Łøvê Dømíñø Mâđiś™ ﻿</td>\n",
       "      <td>2015-05-28T21:00:08.607000</td>\n",
       "      <td>I love song ﻿</td>\n",
       "      <td>0</td>\n",
       "      <td>0</td>\n",
       "      <td>False</td>\n",
       "      <td>[love, song, ﻿]</td>\n",
       "      <td>3</td>\n",
       "      <td>0.000000</td>\n",
       "      <td>0</td>\n",
       "    </tr>\n",
       "    <tr>\n",
       "      <th>3</th>\n",
       "      <td>z12icv3ysqvlwth2c23eddlykyqut5z1h</td>\n",
       "      <td>Eric Gonzalez</td>\n",
       "      <td>2015-05-28T20:47:12.193000</td>\n",
       "      <td>860,000,000 lets make it first female to reach...</td>\n",
       "      <td>0</td>\n",
       "      <td>1</td>\n",
       "      <td>False</td>\n",
       "      <td>[860,000,000, lets, make, first, female, reach...</td>\n",
       "      <td>12</td>\n",
       "      <td>0.083333</td>\n",
       "      <td>0</td>\n",
       "    </tr>\n",
       "    <tr>\n",
       "      <th>4</th>\n",
       "      <td>z133stly3kete3tly22petvwdpmghrlli</td>\n",
       "      <td>Analena López</td>\n",
       "      <td>2015-05-28T17:08:29.827000</td>\n",
       "      <td>shakira is best for worldcup﻿</td>\n",
       "      <td>0</td>\n",
       "      <td>0</td>\n",
       "      <td>False</td>\n",
       "      <td>[shakira, is, best, worldcup﻿]</td>\n",
       "      <td>4</td>\n",
       "      <td>0.000000</td>\n",
       "      <td>0</td>\n",
       "    </tr>\n",
       "  </tbody>\n",
       "</table>\n",
       "</div>"
      ],
      "text/plain": [
       "                              COMMENT_ID                              AUTHOR  \\\n",
       "0    z13lgffb5w3ddx1ul22qy1wxspy5cpkz504                          dharma pal   \n",
       "1      z123dbgb0mqjfxbtz22ucjc5jvzcv3ykj                       Tiza Arellano   \n",
       "2  z12quxxp2vutflkxv04cihggzt2azl34pms0k  Prìñçeśś Âliś Łøvê Dømíñø Mâđiś™ ﻿   \n",
       "3      z12icv3ysqvlwth2c23eddlykyqut5z1h                       Eric Gonzalez   \n",
       "4      z133stly3kete3tly22petvwdpmghrlli                       Analena López   \n",
       "\n",
       "                         DATE  \\\n",
       "0  2015-05-29T02:30:18.971000   \n",
       "1  2015-05-29T00:14:48.748000   \n",
       "2  2015-05-28T21:00:08.607000   \n",
       "3  2015-05-28T20:47:12.193000   \n",
       "4  2015-05-28T17:08:29.827000   \n",
       "\n",
       "                                             CONTENT CLASS  SPM_CNT  IS_URL  \\\n",
       "0                                         Nice song﻿     0        0   False   \n",
       "1                                      I love song ﻿     0        0   False   \n",
       "2                                      I love song ﻿     0        0   False   \n",
       "3  860,000,000 lets make it first female to reach...     0        1   False   \n",
       "4                      shakira is best for worldcup﻿     0        0   False   \n",
       "\n",
       "                                        CONTENT_FLTR  COMMENT_LEN  \\\n",
       "0                                      [nice, song﻿]            2   \n",
       "1                                    [love, song, ﻿]            3   \n",
       "2                                    [love, song, ﻿]            3   \n",
       "3  [860,000,000, lets, make, first, female, reach...           12   \n",
       "4                     [shakira, is, best, worldcup﻿]            4   \n",
       "\n",
       "   SPM_to_COMNT  spm_len  \n",
       "0      0.000000        0  \n",
       "1      0.000000        0  \n",
       "2      0.000000        0  \n",
       "3      0.083333        0  \n",
       "4      0.000000        0  "
      ]
     },
     "execution_count": 38,
     "metadata": {},
     "output_type": "execute_result"
    }
   ],
   "source": [
    "youtube_comments_data_shakira.head()"
   ]
  },
  {
   "cell_type": "code",
   "execution_count": 39,
   "id": "ba1215e5",
   "metadata": {},
   "outputs": [],
   "source": [
    "# Predict the test data with NB Model\n",
    "predicted = model.predict(youtube_comments_data_shakira.values[:,(5,6,8,9,10)])"
   ]
  },
  {
   "cell_type": "code",
   "execution_count": 40,
   "id": "5119f82a",
   "metadata": {},
   "outputs": [
    {
     "data": {
      "text/plain": [
       "array([0, 0, 0, 0, 0, 0, 0, 0, 0, 0, 0, 0, 0, 0, 0, 0, 0, 0, 0, 0, 0, 0,\n",
       "       1, 0, 0, 0, 0, 0, 0, 0, 0, 1, 0, 0, 0, 0, 1, 0, 0, 0, 0, 0, 0, 0,\n",
       "       0, 0, 0, 0, 0, 0, 0, 1, 1, 0, 0, 0, 0, 0, 0, 0, 1, 0, 1, 0, 0, 0,\n",
       "       1, 0, 0, 0, 0, 0, 0, 1, 0, 0, 0, 0, 0, 0, 0, 1, 0, 0, 0, 0, 0, 0,\n",
       "       0, 1, 0, 0, 0, 0, 0, 0, 0, 0, 0, 0, 0, 0, 0, 0, 0, 0, 0, 0, 0, 1,\n",
       "       0, 1, 0, 0, 0, 0, 0, 0, 0, 0, 0, 0, 0, 0, 0, 0, 0, 0, 0, 0, 0, 0,\n",
       "       1, 0, 0, 0, 0, 0, 0, 0, 0, 0, 0, 0, 1, 0, 0, 1, 1, 1, 1, 1, 1, 1,\n",
       "       1, 1, 1, 1, 1, 0, 1, 0, 1, 1, 0, 1, 1, 1, 1, 1, 1, 1, 1, 0, 1, 1,\n",
       "       1, 1, 1, 1, 1, 0, 1, 1, 1, 1, 1, 0, 1, 0, 1, 0, 1, 0, 1, 1, 1, 1,\n",
       "       1, 1, 1, 1, 1, 1, 1, 1, 1, 0, 1, 1, 0, 0, 0, 0, 0, 0, 0, 1, 0, 0,\n",
       "       0, 0, 0, 0, 0, 0, 0, 0, 0, 1, 1, 0, 1, 0, 0, 0, 0, 0, 0, 0, 0, 0,\n",
       "       0, 0, 0, 0, 0, 0, 1, 1, 1, 1, 0, 1, 1, 0, 1, 0, 1, 1, 0, 0, 0, 0,\n",
       "       0, 0, 0, 0, 0, 0, 0, 0, 0, 0, 0, 1, 1, 1, 1, 1, 0, 0, 0, 0, 0, 0,\n",
       "       0, 0, 1, 1, 0, 0, 0, 0, 0, 1, 0, 1, 1, 1, 1, 0, 1, 1, 0, 1, 1, 1,\n",
       "       1, 0, 1, 0, 0, 1, 1, 1, 1, 1, 1, 1, 1, 1, 1, 0, 1, 1, 0, 1, 1, 1,\n",
       "       1, 1, 1, 1, 1, 1, 1, 1, 0, 0, 1, 1, 1, 1, 1, 1, 1, 1, 0, 0, 0, 1,\n",
       "       0, 1, 0, 0, 1, 1, 1, 1, 1, 1, 0, 0, 0, 0, 0, 0, 0, 0], dtype=int64)"
      ]
     },
     "execution_count": 40,
     "metadata": {},
     "output_type": "execute_result"
    }
   ],
   "source": [
    "predicted"
   ]
  },
  {
   "cell_type": "code",
   "execution_count": 41,
   "id": "b038a380",
   "metadata": {},
   "outputs": [
    {
     "data": {
      "text/plain": [
       "array([0, 0, 0, 0, 0, 0, 0, 1, 0, 0, 0, 0, 0, 0, 0, 0, 0, 0, 0, 0, 0, 0,\n",
       "       1, 0, 0, 0, 0, 0, 0, 0, 0, 1, 0, 0, 0, 0, 1, 0, 0, 0, 0, 0, 0, 0,\n",
       "       0, 0, 0, 0, 0, 0, 0, 1, 1, 0, 0, 1, 0, 1, 0, 0, 1, 0, 0, 0, 0, 0,\n",
       "       1, 0, 0, 0, 0, 0, 0, 0, 0, 0, 0, 0, 0, 0, 0, 1, 0, 1, 0, 0, 0, 0,\n",
       "       0, 1, 0, 0, 0, 0, 0, 0, 0, 1, 0, 0, 0, 0, 0, 0, 0, 0, 0, 0, 0, 1,\n",
       "       0, 1, 0, 0, 0, 0, 0, 0, 0, 0, 0, 0, 0, 0, 0, 0, 0, 0, 1, 0, 0, 0,\n",
       "       1, 0, 0, 0, 0, 0, 0, 0, 0, 0, 0, 0, 0, 0, 0, 1, 1, 1, 1, 1, 1, 1,\n",
       "       1, 1, 1, 1, 1, 1, 1, 1, 1, 1, 1, 1, 1, 1, 1, 1, 1, 1, 1, 1, 1, 1,\n",
       "       1, 1, 1, 1, 1, 1, 1, 1, 1, 1, 1, 1, 1, 1, 1, 1, 1, 1, 1, 1, 1, 1,\n",
       "       1, 1, 1, 1, 1, 1, 1, 1, 1, 1, 1, 1, 1, 0, 0, 0, 0, 0, 1, 0, 0, 0,\n",
       "       0, 0, 0, 0, 0, 0, 0, 0, 0, 1, 1, 1, 1, 0, 0, 0, 0, 0, 0, 0, 0, 0,\n",
       "       0, 0, 0, 0, 0, 0, 1, 1, 1, 1, 1, 1, 1, 1, 1, 1, 1, 1, 1, 0, 1, 0,\n",
       "       0, 0, 0, 0, 0, 0, 0, 0, 0, 0, 0, 1, 1, 1, 1, 1, 0, 0, 0, 0, 0, 0,\n",
       "       0, 0, 1, 1, 1, 1, 1, 1, 1, 1, 1, 1, 1, 1, 1, 1, 1, 1, 1, 1, 1, 1,\n",
       "       1, 1, 1, 1, 1, 1, 1, 1, 1, 1, 1, 1, 1, 1, 1, 1, 1, 1, 1, 1, 1, 1,\n",
       "       1, 1, 1, 1, 1, 1, 1, 1, 1, 1, 1, 1, 1, 1, 1, 1, 1, 1, 0, 0, 0, 1,\n",
       "       0, 1, 0, 0, 1, 1, 1, 1, 1, 1, 0, 0, 0, 0, 0, 0, 0, 0], dtype=object)"
      ]
     },
     "execution_count": 41,
     "metadata": {},
     "output_type": "execute_result"
    }
   ],
   "source": [
    "youtube_comments_data_shakira.values[:,4]"
   ]
  },
  {
   "cell_type": "code",
   "execution_count": 47,
   "id": "3e4a63b0",
   "metadata": {},
   "outputs": [],
   "source": [
    "from sklearn.metrics import roc_curve, auc, roc_auc_score\n",
    "from sklearn.metrics import accuracy_score\n",
    "from sklearn.metrics import confusion_matrix"
   ]
  },
  {
   "cell_type": "code",
   "execution_count": 43,
   "id": "52854c16",
   "metadata": {},
   "outputs": [
    {
     "data": {
      "text/plain": [
       "array([[192,   4],\n",
       "       [ 39, 135]], dtype=int64)"
      ]
     },
     "execution_count": 43,
     "metadata": {},
     "output_type": "execute_result"
    }
   ],
   "source": [
    "confusion_matrix(youtube_comments_data_shakira.CLASS, predicted)"
   ]
  },
  {
   "cell_type": "markdown",
   "id": "b9d894d1",
   "metadata": {},
   "source": [
    "### ROC Curve plot for the Naive Bayes model"
   ]
  },
  {
   "cell_type": "code",
   "execution_count": 49,
   "id": "98cb9010",
   "metadata": {},
   "outputs": [
    {
     "data": {
      "image/png": "[encoded data removed]",
      "text/plain": [
       "<Figure size 432x288 with 1 Axes>"
      ]
     },
     "metadata": {},
     "output_type": "display_data"
    }
   ],
   "source": [
    "fpr, tpr, _ = roc_curve(youtube_comments_data_shakira.CLASS, predicted)\n",
    "auc = roc_auc_score(youtube_comments_data_shakira.CLASS, predicted)\n",
    "plt.plot(fpr,tpr,label=\"data 1, auc=\"+str(auc))\n",
    "plt.legend(loc=4)\n",
    "plt.show()"
   ]
  },
  {
   "cell_type": "markdown",
   "id": "f6d79dca",
   "metadata": {},
   "source": [
    "### Create the SVM model to predict whether the comment is SPAM or NOT"
   ]
  },
  {
   "cell_type": "code",
   "execution_count": 50,
   "id": "1067f235",
   "metadata": {},
   "outputs": [],
   "source": [
    "import matplotlib\n",
    " \n",
    "import numpy as np\n",
    "import matplotlib.pyplot as plt\n",
    "from sklearn import svm"
   ]
  },
  {
   "cell_type": "code",
   "execution_count": 51,
   "id": "71829099",
   "metadata": {},
   "outputs": [],
   "source": [
    "svc = svm.SVC(kernel='linear', C=0.1).fit(youtube_comments_data.values[:,(5,6,8,9,10)], youtube_comments_data.CLASS)"
   ]
  },
  {
   "cell_type": "code",
   "execution_count": 52,
   "id": "622ac76e",
   "metadata": {},
   "outputs": [],
   "source": [
    "predicted_svm = svc.predict(youtube_comments_data_shakira.values[:,(5,6,8,9,10)])"
   ]
  },
  {
   "cell_type": "code",
   "execution_count": 53,
   "id": "a1083e4a",
   "metadata": {},
   "outputs": [
    {
     "data": {
      "text/plain": [
       "array([0, 0, 0, 1, 0, 0, 0, 0, 0, 0, 0, 0, 0, 0, 0, 0, 0, 0, 0, 0, 0, 0,\n",
       "       1, 0, 0, 0, 0, 0, 0, 0, 0, 1, 0, 0, 0, 0, 1, 0, 0, 0, 0, 0, 0, 0,\n",
       "       0, 0, 0, 0, 0, 0, 0, 1, 1, 0, 0, 0, 0, 1, 0, 0, 1, 0, 1, 0, 0, 0,\n",
       "       0, 0, 0, 0, 0, 0, 0, 1, 0, 0, 0, 0, 0, 0, 0, 1, 0, 0, 0, 0, 0, 0,\n",
       "       0, 1, 0, 0, 0, 0, 0, 0, 0, 0, 0, 0, 0, 0, 0, 0, 0, 0, 0, 0, 0, 1,\n",
       "       0, 1, 0, 0, 0, 0, 0, 0, 0, 0, 0, 0, 0, 0, 0, 0, 0, 0, 1, 0, 0, 0,\n",
       "       1, 0, 0, 0, 0, 0, 0, 0, 0, 0, 0, 0, 1, 0, 0, 1, 1, 0, 1, 1, 1, 1,\n",
       "       1, 1, 1, 1, 1, 1, 1, 1, 1, 1, 1, 1, 1, 1, 1, 1, 1, 1, 1, 1, 1, 1,\n",
       "       1, 1, 1, 1, 1, 1, 1, 1, 1, 1, 1, 1, 1, 0, 1, 1, 1, 0, 1, 1, 1, 1,\n",
       "       1, 1, 1, 1, 1, 1, 1, 1, 1, 1, 1, 0, 1, 0, 0, 0, 0, 0, 0, 1, 0, 0,\n",
       "       0, 0, 0, 0, 0, 0, 0, 0, 0, 0, 1, 1, 1, 0, 0, 0, 0, 0, 0, 0, 0, 0,\n",
       "       0, 0, 0, 0, 0, 0, 1, 1, 1, 1, 1, 1, 1, 1, 1, 1, 1, 1, 1, 0, 0, 0,\n",
       "       0, 0, 0, 0, 0, 0, 0, 0, 0, 0, 0, 1, 1, 1, 0, 1, 0, 1, 0, 0, 0, 0,\n",
       "       0, 0, 1, 1, 1, 1, 0, 1, 1, 1, 0, 1, 1, 1, 1, 1, 1, 1, 1, 1, 1, 1,\n",
       "       1, 0, 1, 0, 1, 1, 1, 1, 1, 1, 1, 1, 1, 1, 1, 1, 1, 1, 1, 1, 1, 1,\n",
       "       1, 1, 1, 1, 1, 1, 1, 1, 0, 0, 1, 1, 1, 1, 1, 1, 1, 1, 0, 0, 0, 1,\n",
       "       0, 0, 0, 0, 0, 1, 1, 1, 1, 1, 0, 0, 0, 0, 0, 0, 0, 0], dtype=int64)"
      ]
     },
     "execution_count": 53,
     "metadata": {},
     "output_type": "execute_result"
    }
   ],
   "source": [
    "predicted_svm"
   ]
  },
  {
   "cell_type": "code",
   "execution_count": 55,
   "id": "deb6fce2",
   "metadata": {},
   "outputs": [
    {
     "data": {
      "text/plain": [
       "array([[190,   6],\n",
       "       [ 21, 153]], dtype=int64)"
      ]
     },
     "execution_count": 55,
     "metadata": {},
     "output_type": "execute_result"
    }
   ],
   "source": [
    "confusion_matrix(youtube_comments_data_shakira.CLASS, predicted_svm)"
   ]
  },
  {
   "cell_type": "code",
   "execution_count": 56,
   "id": "847e1707",
   "metadata": {},
   "outputs": [
    {
     "data": {
      "text/plain": [
       "0.927027027027027"
      ]
     },
     "execution_count": 56,
     "metadata": {},
     "output_type": "execute_result"
    }
   ],
   "source": [
    "accuracy_score(youtube_comments_data_shakira.CLASS, predicted_svm, normalize = True)"
   ]
  },
  {
   "cell_type": "code",
   "execution_count": 57,
   "id": "2daf2632",
   "metadata": {},
   "outputs": [
    {
     "data": {
      "image/png": "[encoded data removed]",
      "text/plain": [
       "<Figure size 432x288 with 1 Axes>"
      ]
     },
     "metadata": {},
     "output_type": "display_data"
    }
   ],
   "source": [
    "fpr, tpr, _ = roc_curve(youtube_comments_data_shakira.CLASS,  predicted_svm)\n",
    "auc = roc_auc_score(youtube_comments_data_shakira.CLASS,  predicted_svm)\n",
    "plt.plot(fpr,tpr,label=\"data 1, auc=\"+str(auc))\n",
    "plt.legend(loc=4)\n",
    "plt.show()"
   ]
  },
  {
   "cell_type": "markdown",
   "id": "1b57b72d",
   "metadata": {},
   "source": [
    "### CONCLUSION\n",
    "\n",
    "The proposed approach is used to detect the spam in YouTube using a set of their attributes and all classifiers are generated using the Naıve Bayes technique.\n",
    "\n",
    "For the selected attributes we will find out various patterns that will help in predicting the spam. This specific algorithm was chosen because it offers a good balance between robustness and computational effort.\n",
    "\n",
    "After testing various test scenarios we conclude that the proposed approach results in this classification process, with accuracy rates around 88% in the training phase.\n",
    "\n",
    "For future work, since there was not just one method that achieved the best result for every single dataset, we can suppose an ensemble of classification methods can lead to better performance than single classifiers and consider content based features of video like pixel, HD quality etc; to detect spam in YouTube."
   ]
  },
  {
   "cell_type": "code",
   "execution_count": null,
   "id": "bdd4ed24",
   "metadata": {},
   "outputs": [],
   "source": []
  }
 ],
 "metadata": {
  "kernelspec": {
   "display_name": "Python 3",
   "language": "python",
   "name": "python3"
  },
  "language_info": {
   "codemirror_mode": {
    "name": "ipython",
    "version": 3
   },
   "file_extension": ".py",
   "mimetype": "text/x-python",
   "name": "python",
   "nbconvert_exporter": "python",
   "pygments_lexer": "ipython3",
   "version": "3.8.8"
  }
 },
 "nbformat": 4,
 "nbformat_minor": 5
}
